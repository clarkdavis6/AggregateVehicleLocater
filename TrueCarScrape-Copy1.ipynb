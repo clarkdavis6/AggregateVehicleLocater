{
 "cells": [
  {
   "cell_type": "code",
   "execution_count": 3,
   "metadata": {},
   "outputs": [],
   "source": [
    "import requests\n",
    "from splinter import Browser\n",
    "from bs4 import BeautifulSoup as bs"
   ]
  },
  {
   "cell_type": "code",
   "execution_count": 4,
   "metadata": {},
   "outputs": [],
   "source": [
    "!which chromedriver\n",
    "scraped = {}"
   ]
  },
  {
   "cell_type": "code",
   "execution_count": 70,
   "metadata": {},
   "outputs": [],
   "source": [
    "executable_path = {'executable_path': '/usr/local/bin/chromedriver'}\n",
    "browser = Browser('chrome', **executable_path, headless=False)"
   ]
  },
  {
   "cell_type": "code",
   "execution_count": 71,
   "metadata": {},
   "outputs": [
    {
     "name": "stdout",
     "output_type": "stream",
     "text": [
      "https://www.truecar.com/used-cars-for-sale/listings/year-2017-max/location-houston-tx/?searchRadius=100&sort[]=price_desc\n"
     ]
    }
   ],
   "source": [
    "# https://www.cars.com/vehicledetail/detail/762102222/overview/\n",
    "    \n",
    "url = \"https://www.truecar.com/used-cars-for-sale/listings/year-2017-max/location-houston-tx/?searchRadius=100&sort[]=price_desc\"\n",
    "response = requests.get(url)\n",
    "soup = bs(response.text, 'html.parser')\n",
    "print(response.url)\n",
    "#print(soup.prettify())"
   ]
  },
  {
   "cell_type": "code",
   "execution_count": 72,
   "metadata": {},
   "outputs": [
    {
     "name": "stdout",
     "output_type": "stream",
     "text": [
      "[<div class=\"font-weight-bold\" data-qa=\"vehicle-listing-mileage\">3,942<!-- --> miles</div>, <div class=\"text-truncate\" data-qa=\"vehicle-listing-exterior-colors\">Exterior: <!-- -->Blue</div>, <div class=\"text-truncate\" data-qa=\"vehicle-listing-interior-colors\">Interior: <!-- -->Blue</div>]\n",
      "Style : Spyder AWD\n",
      "Exterior Color : Blue\n",
      "Interior Color : Blue\n",
      "Mileage : 3,942\n",
      "MPG : 13 cty / 19 hwy\n",
      "Transmission : Automatic\n",
      "Engine : 5.2L V-10 Gas\n",
      "Drive Type : AWD\n",
      "Fuel Type : Gas\n",
      "price: $289,888\n",
      "Year: 2018\n",
      "Make: Lamborghini\n",
      "Model: Huracan\n",
      "VIN:: ZHWUR1ZF1JLA10082\n",
      "mileage: 3,942 miles\n",
      "exterior: Exterior: Blue\n",
      "interior: Interior: Blue\n"
     ]
    }
   ],
   "source": [
    "boxInfo = soup.find('div', attrs={\"data-qa\": \"VehicleDetailsSm\"}).find_all(\"div\",attrs={\"data-qa\":True})\n",
    "print(boxInfo)\n",
    "\n",
    "for rez in boxInfo: \n",
    "    scraped[rez[\"data-qa\"].split(\"-\")[2]]=rez.text\n",
    "    \n",
    "    \n",
    "for rez in boxInfo:\n",
    "    rez.text\n",
    "for row in scraped:\n",
    "    print(f\"{row}: {scraped[row]}\")\n",
    "    \n",
    "    \n",
    "    \n",
    "    \n",
    "    \n",
    "    \n",
    "    \n",
    "    "
   ]
  },
  {
   "cell_type": "code",
   "execution_count": null,
   "metadata": {},
   "outputs": [],
   "source": [
    "### find next page\n",
    "\n",
    "url = browser.html\n",
    "soup = BeautifulSoup(html, 'html.parser')\n",
    "\n",
    "nextt = soup.find_all('svg', attrs={\"data-qa\": \"IconAngleRight\"}[2])\n",
    "print(nextt[2])"
   ]
  },
  {
   "cell_type": "code",
   "execution_count": 73,
   "metadata": {},
   "outputs": [
    {
     "name": "stdout",
     "output_type": "stream",
     "text": [
      "2018 Lamborghini Huracan Spyder AWD $289,888\n"
     ]
    }
   ],
   "source": [
    "results = soup.find('a', attrs={\"data-qa\": \"VehicleListing\"})#[0]\n",
    "#print(results)\n",
    "AutoListing=results.find_all(\"h4\")#.div#.h4.text\n",
    "print(AutoListing[0].text,AutoListing[1].text)"
   ]
  },
  {
   "cell_type": "code",
   "execution_count": 78,
   "metadata": {},
   "outputs": [
    {
     "ename": "AttributeError",
     "evalue": "'NoneType' object has no attribute 'find_all'",
     "output_type": "error",
     "traceback": [
      "\u001b[0;31m---------------------------------------------------------------------------\u001b[0m",
      "\u001b[0;31mAttributeError\u001b[0m                            Traceback (most recent call last)",
      "\u001b[0;32m<ipython-input-78-4c6545cea8e9>\u001b[0m in \u001b[0;36m<module>\u001b[0;34m()\u001b[0m\n\u001b[1;32m      2\u001b[0m \u001b[0;31m#print(results)\u001b[0m\u001b[0;34m\u001b[0m\u001b[0;34m\u001b[0m\u001b[0m\n\u001b[1;32m      3\u001b[0m \u001b[0;32mfor\u001b[0m \u001b[0mrez\u001b[0m \u001b[0;32min\u001b[0m \u001b[0mresults\u001b[0m\u001b[0;34m:\u001b[0m\u001b[0;34m\u001b[0m\u001b[0m\n\u001b[0;32m----> 4\u001b[0;31m     \u001b[0mprint\u001b[0m\u001b[0;34m(\u001b[0m\u001b[0mrez\u001b[0m\u001b[0;34m.\u001b[0m\u001b[0mh4\u001b[0m\u001b[0;34m.\u001b[0m\u001b[0mfind_all\u001b[0m\u001b[0;34m(\u001b[0m\u001b[0;34m\"span\"\u001b[0m\u001b[0;34m)\u001b[0m\u001b[0;34m[\u001b[0m\u001b[0;36m0\u001b[0m\u001b[0;34m]\u001b[0m\u001b[0;34m.\u001b[0m\u001b[0mtext\u001b[0m\u001b[0;34m)\u001b[0m\u001b[0;34m\u001b[0m\u001b[0m\n\u001b[0m\u001b[1;32m      5\u001b[0m     \u001b[0mprint\u001b[0m\u001b[0;34m(\u001b[0m\u001b[0mrez\u001b[0m\u001b[0;34m.\u001b[0m\u001b[0mh4\u001b[0m\u001b[0;34m.\u001b[0m\u001b[0mfind_all\u001b[0m\u001b[0;34m(\u001b[0m\u001b[0;34m\"span\"\u001b[0m\u001b[0;34m)\u001b[0m\u001b[0;34m[\u001b[0m\u001b[0;36m1\u001b[0m\u001b[0;34m]\u001b[0m\u001b[0;34m.\u001b[0m\u001b[0mtext\u001b[0m\u001b[0;34m)\u001b[0m\u001b[0;34m\u001b[0m\u001b[0m\n\u001b[1;32m      6\u001b[0m     \u001b[0mprint\u001b[0m\u001b[0;34m(\u001b[0m\u001b[0;34m\"-\"\u001b[0m\u001b[0;34m*\u001b[0m\u001b[0;36m10\u001b[0m\u001b[0;34m)\u001b[0m\u001b[0;34m\u001b[0m\u001b[0m\n",
      "\u001b[0;31mAttributeError\u001b[0m: 'NoneType' object has no attribute 'find_all'"
     ]
    }
   ],
   "source": []
  },
  {
   "cell_type": "code",
   "execution_count": 75,
   "metadata": {},
   "outputs": [
    {
     "ename": "IndexError",
     "evalue": "list index out of range",
     "output_type": "error",
     "traceback": [
      "\u001b[0;31m---------------------------------------------------------------------------\u001b[0m",
      "\u001b[0;31mIndexError\u001b[0m                                Traceback (most recent call last)",
      "\u001b[0;32m<ipython-input-75-066738425940>\u001b[0m in \u001b[0;36m<module>\u001b[0;34m()\u001b[0m\n\u001b[1;32m     16\u001b[0m         \u001b[0mprint\u001b[0m\u001b[0;34m(\u001b[0m\u001b[0me\u001b[0m\u001b[0;34m)\u001b[0m\u001b[0;34m\u001b[0m\u001b[0m\n\u001b[1;32m     17\u001b[0m \u001b[0;34m\u001b[0m\u001b[0m\n\u001b[0;32m---> 18\u001b[0;31m \u001b[0mresults\u001b[0m \u001b[0;34m=\u001b[0m \u001b[0msoup\u001b[0m\u001b[0;34m.\u001b[0m\u001b[0mfind_all\u001b[0m\u001b[0;34m(\u001b[0m\u001b[0;34m'div'\u001b[0m\u001b[0;34m,\u001b[0m \u001b[0mattrs\u001b[0m\u001b[0;34m=\u001b[0m\u001b[0;34m{\u001b[0m\u001b[0;34m\"data-qa\"\u001b[0m\u001b[0;34m:\u001b[0m \u001b[0;34m\"PricingBlock\"\u001b[0m\u001b[0;34m}\u001b[0m\u001b[0;34m)\u001b[0m\u001b[0;34m[\u001b[0m\u001b[0;36m0\u001b[0m\u001b[0;34m]\u001b[0m\u001b[0;34m\u001b[0m\u001b[0m\n\u001b[0m\u001b[1;32m     19\u001b[0m \u001b[0mscraped\u001b[0m\u001b[0;34m[\u001b[0m\u001b[0;34m\"price\"\u001b[0m\u001b[0;34m]\u001b[0m\u001b[0;34m=\u001b[0m\u001b[0;34m(\u001b[0m\u001b[0mresults\u001b[0m\u001b[0;34m.\u001b[0m\u001b[0mdiv\u001b[0m\u001b[0;34m.\u001b[0m\u001b[0mspan\u001b[0m\u001b[0;34m.\u001b[0m\u001b[0mtext\u001b[0m\u001b[0;34m)\u001b[0m\u001b[0;34m\u001b[0m\u001b[0m\n\u001b[1;32m     20\u001b[0m \u001b[0;31m#year make model\u001b[0m\u001b[0;34m\u001b[0m\u001b[0;34m\u001b[0m\u001b[0m\n",
      "\u001b[0;31mIndexError\u001b[0m: list index out of range"
     ]
    }
   ],
   "source": [
    "scraped = {}\n",
    "results = soup.find_all('div', attrs={\"data-qa\": \"EmphasizedFeature\"})\n",
    "for rez in results:\n",
    "    try:\n",
    "#         print(res.strong.text)\n",
    "#         print(res)\n",
    "#         if res.strong.text == \"\"\n",
    "#         if res.strong.text == \"VIN:\":\n",
    "# #             print(\"---vin found---\")\n",
    "#             vin = res.span.text\n",
    "#         if res.strong.text == \"Mileage\":\n",
    "#             mileage = res.span.text\n",
    "        scraped[rez.h4.find_all(\"span\")[0].text] = (rez.h4.find_all(\"span\")[1].text)\n",
    "        \n",
    "    except AttributeError as e:\n",
    "        print(e)\n",
    "            \n",
    "results = soup.find_all('div', attrs={\"data-qa\": \"PricingBlock\"})[0]\n",
    "scraped[\"price\"]=(results.div.span.text)\n",
    "#year make model\n",
    "results = soup.find_all('h1', attrs={\"data-qa\": \"Heading\"})[0].div.text\n",
    "#print(results)\n",
    "\n",
    "#scraped[\"price\"]=(results.div.span.text)\n",
    "H1List = results.split(\" \")\n",
    "print(H1List)\n",
    "scraped[\"Year\"] = H1List[0]\n",
    "scraped[\"Make\"] = H1List[1]\n",
    "scraped[\"Model\"] = H1List[2]\n",
    "\n",
    "#print(results)\n",
    "#print(H1List[2])"
   ]
  },
  {
   "cell_type": "code",
   "execution_count": 76,
   "metadata": {},
   "outputs": [
    {
     "ename": "IndexError",
     "evalue": "list index out of range",
     "output_type": "error",
     "traceback": [
      "\u001b[0;31m---------------------------------------------------------------------------\u001b[0m",
      "\u001b[0;31mIndexError\u001b[0m                                Traceback (most recent call last)",
      "\u001b[0;32m<ipython-input-76-4c415c63b0da>\u001b[0m in \u001b[0;36m<module>\u001b[0;34m()\u001b[0m\n\u001b[0;32m----> 1\u001b[0;31m \u001b[0mvin\u001b[0m \u001b[0;34m=\u001b[0m \u001b[0msoup\u001b[0m\u001b[0;34m.\u001b[0m\u001b[0mfind_all\u001b[0m\u001b[0;34m(\u001b[0m\u001b[0;34m'li'\u001b[0m\u001b[0;34m,\u001b[0m \u001b[0mattrs\u001b[0m\u001b[0;34m=\u001b[0m\u001b[0;34m{\u001b[0m\u001b[0;34m\"data-qa\"\u001b[0m\u001b[0;34m:\u001b[0m \u001b[0;34m\"vin-number\"\u001b[0m\u001b[0;34m}\u001b[0m\u001b[0;34m)\u001b[0m\u001b[0;34m[\u001b[0m\u001b[0;36m0\u001b[0m\u001b[0;34m]\u001b[0m\u001b[0;34m.\u001b[0m\u001b[0mtext\u001b[0m\u001b[0;34m\u001b[0m\u001b[0m\n\u001b[0m\u001b[1;32m      2\u001b[0m \u001b[0;31m#scraped[\"price\"]=(results.div.span.text)\u001b[0m\u001b[0;34m\u001b[0m\u001b[0;34m\u001b[0m\u001b[0m\n\u001b[1;32m      3\u001b[0m \u001b[0mvinList\u001b[0m \u001b[0;34m=\u001b[0m \u001b[0mvin\u001b[0m\u001b[0;34m.\u001b[0m\u001b[0msplit\u001b[0m\u001b[0;34m(\u001b[0m\u001b[0;34m\" \"\u001b[0m\u001b[0;34m)\u001b[0m\u001b[0;34m\u001b[0m\u001b[0m\n\u001b[1;32m      4\u001b[0m \u001b[0mscraped\u001b[0m\u001b[0;34m[\u001b[0m\u001b[0mvinList\u001b[0m\u001b[0;34m[\u001b[0m\u001b[0;36m0\u001b[0m\u001b[0;34m]\u001b[0m\u001b[0;34m]\u001b[0m \u001b[0;34m=\u001b[0m \u001b[0mvinList\u001b[0m\u001b[0;34m[\u001b[0m\u001b[0;36m1\u001b[0m\u001b[0;34m]\u001b[0m\u001b[0;34m\u001b[0m\u001b[0m\n\u001b[1;32m      5\u001b[0m \u001b[0mprint\u001b[0m\u001b[0;34m(\u001b[0m\u001b[0mvinList\u001b[0m\u001b[0;34m)\u001b[0m\u001b[0;34m\u001b[0m\u001b[0m\n",
      "\u001b[0;31mIndexError\u001b[0m: list index out of range"
     ]
    }
   ],
   "source": [
    "vin = soup.find_all('li', attrs={\"data-qa\": \"vin-number\"})[0].text\n",
    "#scraped[\"price\"]=(results.div.span.text)\n",
    "vinList = vin.split(\" \")\n",
    "scraped[vinList[0]] = vinList[1]\n",
    "print(vinList)"
   ]
  },
  {
   "cell_type": "code",
   "execution_count": 77,
   "metadata": {},
   "outputs": [],
   "source": [
    "for entry in scraped:\n",
    "    print(entry, scraped[entry])"
   ]
  },
  {
   "cell_type": "code",
   "execution_count": null,
   "metadata": {},
   "outputs": [],
   "source": []
  },
  {
   "cell_type": "code",
   "execution_count": null,
   "metadata": {},
   "outputs": [],
   "source": []
  }
 ],
 "metadata": {
  "kernelspec": {
   "display_name": "Python 3",
   "language": "python",
   "name": "python3"
  },
  "language_info": {
   "codemirror_mode": {
    "name": "ipython",
    "version": 3
   },
   "file_extension": ".py",
   "mimetype": "text/x-python",
   "name": "python",
   "nbconvert_exporter": "python",
   "pygments_lexer": "ipython3",
   "version": "3.6.5"
  }
 },
 "nbformat": 4,
 "nbformat_minor": 2
}
